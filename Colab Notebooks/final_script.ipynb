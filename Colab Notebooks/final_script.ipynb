{
  "cells": [
    {
      "cell_type": "code",
      "execution_count": null,
      "metadata": {
        "id": "DPzKpvwt9CKp"
      },
      "outputs": [],
      "source": [
        "!pip install flask-ngrok\n",
        "\n",
        "import firebase_admin\n",
        "from firebase_admin import credentials, db, storage, firestore\n",
        "from google.colab import drive\n",
        "\n",
        "import numpy as np\n",
        "import tensorflow as tf\n",
        "from tensorflow import keras\n",
        "import csv\n",
        "import pandas as pd\n",
        "import io\n",
        "import os\n",
        "import cv2\n",
        "import matplotlib.pyplot as plt\n",
        "import urllib.request\n",
        "import json\n",
        "\n",
        "from PIL import Image\n",
        "\n",
        "from flask import Flask, jsonify, request\n",
        "from flask_ngrok import run_with_ngrok\n",
        "\n",
        "drive.mount('/drive')\n",
        "trained_model = keras.models.load_model('/drive/My Drive/trained_models/final_approach')\n",
        "service_key_path = '/drive/My Drive/diabatic-retinopathy-firebase-adminsdk-5ac2x-2da081220c.json'\n",
        "app = Flask(__name__)\n",
        "run_with_ngrok(app)\n",
        "\n",
        "def get_ngrok_address():\n",
        "    if not firebase_admin._apps:\n",
        "      cred = credentials.Certificate(service_key_path)\n",
        "      firebase_admin.initialize_app(cred, \n",
        "                                    {'databaseURL': 'https://diabatic-retinopathy-default-rtdb.firebaseio.com/',\n",
        "                                    'storageBucket': 'diabatic-retinopathy.appspot.com'\n",
        "                                    })\n",
        "    db = firestore.client()\n",
        "    os.system(\"curl  http://localhost:4040/api/tunnels > tunnels.json\")\n",
        "\n",
        "    with open('tunnels.json') as data_file:\n",
        "        datajson = json.load(data_file)\n",
        "    \n",
        "    pub = \"test\"\n",
        "    for i in datajson['tunnels']:\n",
        "        pub = i['public_url'] \n",
        "    db.collection(u'hosting').document(u'host_url').set({u'url':pub})\n",
        "\n",
        "\n",
        "\n",
        "@app.route(\"/\")\n",
        "def root():\n",
        "    get_ngrok_address()\n",
        "    return 'Root of Flask WebApp!'\n",
        "\n",
        "\n",
        "\n",
        "@app.route('/predict')\n",
        "def predict():\n",
        "\n",
        "  def crop_image_from_gray(img,tol=7):\n",
        "      if img.ndim ==2:\n",
        "          mask = img>tol\n",
        "          return img[np.ix_(mask.any(1),mask.any(0))]\n",
        "      elif img.ndim==3:\n",
        "          gray_img = cv2.cvtColor(img, cv2.COLOR_RGB2GRAY)\n",
        "          mask = gray_img>tol\n",
        "          \n",
        "          check_shape = img[:,:,0][np.ix_(mask.any(1),mask.any(0))].shape[0]\n",
        "          if (check_shape == 0): # image is too dark so that we crop out everything,\n",
        "              return img # return original image\n",
        "          else:\n",
        "              img1=img[:,:,0][np.ix_(mask.any(1),mask.any(0))]\n",
        "              img2=img[:,:,1][np.ix_(mask.any(1),mask.any(0))]\n",
        "              img3=img[:,:,2][np.ix_(mask.any(1),mask.any(0))]\n",
        "              img = np.stack([img1,img2,img3],axis=-1)\n",
        "          return img\n",
        "\n",
        "  def applying_gaussian_filter(path, sigmaX=10):\n",
        "      req = urllib.request.urlopen(path)\n",
        "      arr = np.asarray(bytearray(req.read()), dtype=np.uint8)\n",
        "      image = cv2.imdecode(arr, -1) # 'Load it as it is'\n",
        "      image = cv2.cvtColor(image, cv2.COLOR_BGR2GRAY)\n",
        "      image = crop_image_from_gray(image)\n",
        "      image = cv2.resize(image, (300, 300))\n",
        "      image = cv2.addWeighted ( image,4, cv2.GaussianBlur( image , (0,0) , sigmaX) ,-4 ,128)\n",
        "          \n",
        "      return image\n",
        "\n",
        "  def process_images(image_path,image_name):\n",
        "\n",
        "    image = applying_gaussian_filter(image_path,40)\n",
        "\n",
        "    cv2.imwrite('/drive/My Drive/temp_image.png', image)\n",
        "\n",
        "    bucket = storage.bucket()\n",
        "    blob = bucket.blob('processed_' + image_name)\n",
        "    blob.upload_from_filename('/drive/My Drive/temp_image.png')\n",
        "    blob.make_public()\n",
        "    return blob.public_url\n",
        "\n",
        "  if not firebase_admin._apps:\n",
        "    cred = credentials.Certificate(service_key_path)\n",
        "    firebase_admin.initialize_app(  cred, \n",
        "                                    {'databaseURL': 'https://diabatic-retinopathy-default-rtdb.firebaseio.com/',\n",
        "                                    'storageBucket': 'diabatic-retinopathy.appspot.com'\n",
        "                                    }\n",
        "                                ) \n",
        "\n",
        "  ref = db.reference('uploads')\n",
        "  snapshot = ref.order_by_child('timestamp').limit_to_last(1).get()\n",
        "\n",
        "  for key, val in snapshot.items():\n",
        "    print(val)\n",
        "    processed_image = process_images(val['url'], val['name'])\n",
        "\n",
        "    image = cv2.imread('/drive/My Drive/temp_image.png')\n",
        "    image = image.reshape(1,300,300,3)\n",
        "    prediction = trained_model.predict(image)\n",
        "    final_prediction = np.argmax(prediction[0])\n",
        "\n",
        "\n",
        "    db.reference('uploads').child(key).update({\"processedImageUrl\": processed_image,\"prediction\": str(final_prediction)})\n",
        "\n",
        "    print(\"Predicted Value : \", final_prediction)\n",
        "\n",
        "    data = {\n",
        "        'prediction': str(final_prediction),\n",
        "        'url': val['url'],\n",
        "        'processedImageUrl': processed_image,\n",
        "        'name': val['name']\n",
        "    }\n",
        "\n",
        "    # Enable Access-Control-Allow-Origin\n",
        "    response = jsonify(message=data)\n",
        "    response.headers.add(\"Access-Control-Allow-Origin\", \"*\")\n",
        "    return response"
      ]
    },
    {
      "cell_type": "code",
      "execution_count": null,
      "metadata": {
        "colab": {
          "background_save": true
        },
        "id": "GONxRLKZ9M2r",
        "outputId": "358f0a87-7889-40d5-b714-baa43acb43c8"
      },
      "outputs": [
        {
          "name": "stdout",
          "output_type": "stream",
          "text": [
            " * Serving Flask app \"__main__\" (lazy loading)\n",
            " * Environment: production\n",
            "\u001b[31m   WARNING: This is a development server. Do not use it in a production deployment.\u001b[0m\n",
            "\u001b[2m   Use a production WSGI server instead.\u001b[0m\n",
            " * Debug mode: off\n"
          ]
        },
        {
          "name": "stderr",
          "output_type": "stream",
          "text": [
            "INFO:werkzeug: * Running on http://127.0.0.1:5000/ (Press CTRL+C to quit)\n"
          ]
        },
        {
          "name": "stdout",
          "output_type": "stream",
          "text": [
            " * Running on http://d00f-34-125-45-247.ngrok.io\n",
            " * Traffic stats available on http://127.0.0.1:4040\n"
          ]
        },
        {
          "name": "stderr",
          "output_type": "stream",
          "text": [
            "INFO:werkzeug:127.0.0.1 - - [14/Sep/2022 10:24:35] \"\u001b[37mGET / HTTP/1.1\u001b[0m\" 200 -\n"
          ]
        },
        {
          "name": "stdout",
          "output_type": "stream",
          "text": [
            "{'name': '00cc2b75cddd.png', 'timestamp': 1663151100084, 'url': 'https://firebasestorage.googleapis.com/v0/b/diabatic-retinopathy.appspot.com/o/uploads%2F00cc2b75cddd.png?alt=media&token=039b01c4-1b6d-4db7-8290-9a3d31c3a6ce'}\n"
          ]
        },
        {
          "name": "stderr",
          "output_type": "stream",
          "text": [
            "INFO:werkzeug:127.0.0.1 - - [14/Sep/2022 10:25:06] \"\u001b[37mGET /predict HTTP/1.1\u001b[0m\" 200 -\n"
          ]
        },
        {
          "name": "stdout",
          "output_type": "stream",
          "text": [
            "Predicted Value :  0\n"
          ]
        }
      ],
      "source": [
        "app.run()"
      ]
    }
  ],
  "metadata": {
    "colab": {
      "provenance": []
    },
    "kernelspec": {
      "display_name": "Python 3",
      "name": "python3"
    },
    "language_info": {
      "name": "python"
    }
  },
  "nbformat": 4,
  "nbformat_minor": 0
}