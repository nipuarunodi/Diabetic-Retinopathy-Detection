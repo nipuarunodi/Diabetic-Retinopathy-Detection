{
  "nbformat": 4,
  "nbformat_minor": 0,
  "metadata": {
    "colab": {
      "provenance": [],
      "collapsed_sections": []
    },
    "kernelspec": {
      "name": "python3",
      "display_name": "Python 3"
    },
    "language_info": {
      "name": "python"
    }
  },
  "cells": [
    {
      "cell_type": "code",
      "execution_count": null,
      "metadata": {
        "id": "sxmudOGEBd22"
      },
      "outputs": [],
      "source": [
        "import numpy as np\n",
        "import tensorflow as tf\n",
        "from tensorflow import keras\n",
        "from google.colab import drive\n",
        "import csv\n",
        "import pandas as pd\n",
        "import io\n",
        "import os\n",
        "import cv2\n",
        "from pandas.errors import EmptyDataError\n",
        "import matplotlib.pyplot as plt\n",
        "from keras.models import Sequential\n",
        "from sklearn.model_selection import train_test_split\n",
        "from keras.layers import Conv2D, MaxPooling2D, Dropout, Dense, Flatten, BatchNormalization, Input \n",
        "\n",
        "drive.mount('/drive')\n",
        "\n",
        "dataset = pd.read_csv('/drive/My Drive/Diabatic_Retinopathy/train.csv',error_bad_lines=False)\n",
        "image_folder_path = \"/drive/My Drive/Diabatic_Retinopathy_Preprocessed_Images\"\n",
        "\n",
        "one_hot_labels = pd.Series(dataset['diagnosis'])\n",
        "one_hot_labels = pd.get_dummies(one_hot_labels, sparse = True)\n",
        "one_hot_labels = np.asarray(one_hot_labels)\n",
        "\n",
        "x = []\n",
        "y = []\n",
        "\n",
        "for index, row in dataset.iterrows():\n",
        "  image_path = os.path.join(image_folder_path, row['id_code']+'.png')\n",
        "  image = cv2.imread(image_path)\n",
        "  if image is None:\n",
        "    print(\"No Image : \", image_path)\n",
        "  else: \n",
        "    x.append(image)\n",
        "    y.append(one_hot_labels[index])\n",
        "    print(index)\n",
        "\n",
        "x_train, x_valid, y_train, y_valid = train_test_split(x, y, test_size = 0.2, train_size = 0.8, random_state=42)\n",
        "\n",
        "def build_diabetic_retinopathy_model(kernel_size, pool_size):\n",
        "  \n",
        "  diabetic_retinopathy_model = Sequential()\n",
        "\n",
        "  diabetic_retinopathy_model.add(Conv2D(32, kernel_size, activation='relu', input_shape = (300,300,3)))\n",
        "  diabetic_retinopathy_model.add(MaxPooling2D((pool_size)))\n",
        "  diabetic_retinopathy_model.add(Dropout(0.5))\n",
        "\n",
        "  diabetic_retinopathy_model.add(Conv2D(64, (kernel_size), activation='relu'))\n",
        "  diabetic_retinopathy_model.add(MaxPooling2D((pool_size)))\n",
        "  diabetic_retinopathy_model.add(Dropout(0.8))\n",
        "\n",
        "  diabetic_retinopathy_model.add(Conv2D(128, (kernel_size), activation='relu'))\n",
        "  diabetic_retinopathy_model.add(MaxPooling2D((pool_size)))\n",
        "  diabetic_retinopathy_model.add(Dropout(0.8))\n",
        "\n",
        "  diabetic_retinopathy_model.add(Conv2D(64, (kernel_size), activation='relu'))\n",
        "  diabetic_retinopathy_model.add(MaxPooling2D((pool_size)))\n",
        "  diabetic_retinopathy_model.add(Dropout(0.8))\n",
        "\n",
        "  diabetic_retinopathy_model.add(keras.layers.Flatten())\n",
        "  diabetic_retinopathy_model.add(keras.layers.Dense(32, activation='relu'))\n",
        "  diabetic_retinopathy_model.add(keras.layers.Dense(5, activation='softmax'))\n",
        "\n",
        "  return diabetic_retinopathy_model\n",
        "\n",
        "kernel_size = 4\n",
        "pool_size = (2,2)\n",
        "\n",
        "diabetic_retinopathy_model = build_diabetic_retinopathy_model(kernel_size, pool_size)\n",
        "\n",
        "diabetic_retinopathy_model.compile(optimizer='adam',\n",
        "              loss='categorical_crossentropy',\n",
        "              metrics=['accuracy'])\n",
        "\n",
        "y_train_raw = np.array(y_train)\n",
        "x_train_raw = np.array(x_train)\n",
        "x_valid_raw = np.array(x_valid)\n",
        "y_valid_raw = np.array(y_valid)\n",
        "\n",
        "history = diabetic_retinopathy_model.fit(x_train_raw, y_train_raw, batch_size = 40, epochs=50, validation_data = (x_valid_raw, y_valid_raw)  )"
      ]
    },
    {
      "cell_type": "code",
      "source": [
        "# Evaluate Model\n",
        "score = diabetic_retinopathy_model.evaluate(x_valid_raw, y_valid_raw, verbose=0)\n",
        "print('Test loss:', score[0])\n",
        "print('Test accuracy:', score[1])"
      ],
      "metadata": {
        "id": "m7gQNNkiCIe3"
      },
      "execution_count": null,
      "outputs": []
    },
    {
      "cell_type": "code",
      "source": [
        "# Generating Graphs\n",
        "acc = history.history['accuracy']\n",
        "val_acc = history.history['val_accuracy']\n",
        "\n",
        "# Retrieve a list of list results on training and validation data\n",
        "# sets for each training epoch\n",
        "loss = history.history['loss']\n",
        "val_loss = history.history['val_loss']\n",
        "\n",
        "# Get number of epochs\n",
        "epochs = range(len(acc))\n",
        "\n",
        "# Plot training and validation accuracy per epoch\n",
        "plt.plot(epochs, acc)\n",
        "plt.plot(epochs, val_acc)\n",
        "plt.title('Training and validation accuracy')\n",
        "\n",
        "plt.figure()\n",
        "\n",
        "# Plot training and validation loss per epoch\n",
        "plt.plot(epochs, loss)\n",
        "plt.plot(epochs, val_loss)\n",
        "plt.title('Training and validation loss')"
      ],
      "metadata": {
        "id": "NbNOPTHaCNTR"
      },
      "execution_count": null,
      "outputs": []
    },
    {
      "cell_type": "code",
      "source": [
        "# Saving the Model\n",
        "diabetic_retinopathy_model.save('/drive/My Drive/trained_models/approach_1')"
      ],
      "metadata": {
        "id": "L_tLCfhVCRXJ"
      },
      "execution_count": null,
      "outputs": []
    }
  ]
}