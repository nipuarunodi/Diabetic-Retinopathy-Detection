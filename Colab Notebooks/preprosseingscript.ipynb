{
  "nbformat": 4,
  "nbformat_minor": 0,
  "metadata": {
    "colab": {
      "provenance": []
    },
    "kernelspec": {
      "name": "python3",
      "display_name": "Python 3"
    },
    "language_info": {
      "name": "python"
    }
  },
  "cells": [
    {
      "cell_type": "code",
      "execution_count": null,
      "metadata": {
        "id": "vXokGI8fd60C"
      },
      "outputs": [],
      "source": [
        "import numpy as np\n",
        "import tensorflow as tf\n",
        "from tensorflow import keras\n",
        "from google.colab import drive\n",
        "import csv\n",
        "import pandas as pd\n",
        "import io\n",
        "import os\n",
        "import cv2\n",
        "from pandas.errors import EmptyDataError\n",
        "import matplotlib.pyplot as plt\n",
        "\n",
        "drive.mount('/drive')\n",
        "\n",
        "dataset = pd.read_csv('/drive/My Drive/Diabatic_Retinopathy/train.csv',error_bad_lines=False)\n",
        "image_folder_path = \"/drive/My Drive/Diabatic_Retinopathy/train_images\"\n",
        "processed_image_folder_path = \"/drive/My Drive/Diabatic_Retinopathy_Preprocessed_Images\"\n",
        "\n",
        "def crop_image_from_gray(img,tol=7):\n",
        "    if img.ndim ==2:\n",
        "        mask = img>tol\n",
        "        return img[np.ix_(mask.any(1),mask.any(0))]\n",
        "    elif img.ndim==3:\n",
        "        gray_img = cv2.cvtColor(img, cv2.COLOR_RGB2GRAY)\n",
        "        mask = gray_img>tol\n",
        "        \n",
        "        check_shape = img[:,:,0][np.ix_(mask.any(1),mask.any(0))].shape[0]\n",
        "        if (check_shape == 0): # image is too dark so that we crop out everything,\n",
        "            return img # return original image\n",
        "        else:\n",
        "            img1=img[:,:,0][np.ix_(mask.any(1),mask.any(0))]\n",
        "            img2=img[:,:,1][np.ix_(mask.any(1),mask.any(0))]\n",
        "            img3=img[:,:,2][np.ix_(mask.any(1),mask.any(0))]\n",
        "            img = np.stack([img1,img2,img3],axis=-1)\n",
        "        return img\n",
        "\n",
        "def applying_gaussian_filter(path, sigmaX=10):\n",
        "    image = cv2.imread(path)\n",
        "    image = cv2.cvtColor(image, cv2.COLOR_BGR2GRAY)\n",
        "    image = crop_image_from_gray(image)\n",
        "    image = cv2.resize(image, (300, 300))\n",
        "    image=cv2.addWeighted ( image,4, cv2.GaussianBlur( image , (0,0) , sigmaX) ,-4 ,128)\n",
        "        \n",
        "    return image\n",
        "\n",
        "def process_images(row, index):\n",
        "  image_path = os.path.join(image_folder_path, row['id_code']+'.png')\n",
        "  image = applying_gaussian_filter(image_path,40)\n",
        "  print(row['id_code'], row['diagnosis'])\n",
        "  # plt.imshow(image,cmap='gray')\n",
        "  # plt.show()\n",
        "\n",
        "  image_write_path = os.path.join(processed_image_folder_path, row['id_code']+'.png')\n",
        "  cv2.imwrite(image_write_path, image)\n",
        "\n",
        "for index, row in dataset.iterrows():\n",
        "    process_images(row, index)"
      ]
    }
  ]
}